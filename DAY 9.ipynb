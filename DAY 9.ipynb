{
 "cells": [
  {
   "cell_type": "code",
   "execution_count": 2,
   "metadata": {},
   "outputs": [
    {
     "name": "stdout",
     "output_type": "stream",
     "text": [
      "please provide your name:PROSPER\n",
      "please put in your age:45\n",
      "please put in your gender:MALE\n",
      "please put in your rank:3\n",
      "please put in your marital status (M: Married and S: single):MARRIED\n",
      "for all staff transfered out of the HeadQuater provisions will be made available\n",
      "End of program\n"
     ]
    }
   ],
   "source": [
    "try:\n",
    "    Name = input('please provide your name:')\n",
    "    Age = int(input('please put in your age:'))\n",
    "    Gender = (input('please put in your gender:'))\n",
    "    Rank = int(input('please put in your rank:'))\n",
    "    Status = (input('please put in your marital status (M: Married and S: single):'))\n",
    "    Location = ['kaduna','Lagos','Delta','Oyo','Abia','Kano','Plateu','Kwara','Bayelsa']\n",
    "    \n",
    "    if Gender == 'Female' and status == 'Single' and Age < 40:\n",
    "        print(f'Congratulations you have been posted to {random.choice(Location)}')\n",
    "    elif Gender == 'Female' and status == 'Single' and Age >= 40:\n",
    "        print(f'Congratulations you will remain at the HeadQuarter')\n",
    "    elif Gender == 'Female' and status == 'Married':\n",
    "        print(f'congratulations you will remain at the HeadQuarter')\n",
    "    elif Gender == 'Name' and Status == 'Single' and Age < 50:\n",
    "        print(f'Congratulations you have been posted to {random.choice(location)}')\n",
    "    elif Gender == 'Male' and status == 'Married' and Age < 50:\n",
    "        print(f'Congratulations you have been posted to {random.choice(location)}')\n",
    "    elif Gender == 'Male' and status == 'Married' and Age >= 50:\n",
    "        print(f'congratulations you will remain at the HeadQuater')\n",
    "    elif Gender == 'Male' or Gender == 'Female' and Rank >= 10:\n",
    "        print(f'congratulations you will remain at the HeadQuater')\n",
    "    elif Gender == 'Male' and status == 'Single' and Age >= 50:\n",
    "        print(f'congratulations you have been posted to {random.choice(Location)}')\n",
    "        \n",
    "except ValueError:\n",
    "    print('You have Entered a Wrong Value')\n",
    "except TypeError:\n",
    "    print('Performing an operation with a wrong datatype')\n",
    "except:\n",
    "    print('You have encounter other errors unkown please go through your code to figure it out')\n",
    "else:\n",
    "    print('for all staff transfered out of the HeadQuater provisions will be made available')\n",
    "finally:\n",
    "    print('End of program')"
   ]
  },
  {
   "cell_type": "code",
   "execution_count": 1,
   "metadata": {},
   "outputs": [
    {
     "name": "stdout",
     "output_type": "stream",
     "text": [
      "please input your first number : 2\n",
      "please input your second number : 3\n",
      " what do you want to do?\n",
      "    a. Add b. subtract c. multiply d. divide\n",
      "    c\n",
      "2 multiplied by 3 is 6\n",
      "8\n",
      "End of program\n"
     ]
    }
   ],
   "source": [
    "try :\n",
    "    num1 = int(input('please input your first number : '))\n",
    "    num2 = int(input('please input your second number : '))\n",
    "    add = num1 + num2\n",
    "    sub = num1 - num2\n",
    "    mul = num1 * num2\n",
    "    div = num1 // num2\n",
    "    choice = input(''' what do you want to do?\n",
    "    a. Add b. subtract c. multiply d. divide\n",
    "    ''')\n",
    "    \n",
    "    if choice == 'a':\n",
    "        print(f'{num1} plus {num2} is {add}')\n",
    "    elif choice == 'b':\n",
    "        print(f'{num1} subtracted by {num2} is {sub}')\n",
    "    elif choice == 'c':\n",
    "        print(f'{num1} multiplied by {num2} is {mul}')\n",
    "    elif choice == 'd':\n",
    "        print(f'{num1} divided by {num2} is {div}')\n",
    "        \n",
    "except valueError:\n",
    "    print('You have entered the wrong value')\n",
    "except TypeError:\n",
    "    print('You are performing an operation with the wrong datatype')\n",
    "except:\n",
    "    print('You have encountered other errors unknown, please go throughh your code to figure it out')\n",
    "else:\n",
    "    print(f'{num1 ** num2}')\n",
    "finally:\n",
    "    print('End of program')"
   ]
  },
  {
   "cell_type": "code",
   "execution_count": null,
   "metadata": {},
   "outputs": [],
   "source": []
  }
 ],
 "metadata": {
  "kernelspec": {
   "display_name": "Python 3",
   "language": "python",
   "name": "python3"
  },
  "language_info": {
   "codemirror_mode": {
    "name": "ipython",
    "version": 3
   },
   "file_extension": ".py",
   "mimetype": "text/x-python",
   "name": "python",
   "nbconvert_exporter": "python",
   "pygments_lexer": "ipython3",
   "version": "3.8.3"
  }
 },
 "nbformat": 4,
 "nbformat_minor": 4
}
