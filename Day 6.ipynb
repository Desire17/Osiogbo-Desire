{
 "cells": [
  {
   "cell_type": "code",
   "execution_count": 1,
   "metadata": {},
   "outputs": [],
   "source": [
    "import math as m"
   ]
  },
  {
   "cell_type": "code",
   "execution_count": 2,
   "metadata": {},
   "outputs": [
    {
     "name": "stdout",
     "output_type": "stream",
     "text": [
      "['__doc__', '__loader__', '__name__', '__package__', '__spec__', 'acos', 'acosh', 'asin', 'asinh', 'atan', 'atan2', 'atanh', 'ceil', 'comb', 'copysign', 'cos', 'cosh', 'degrees', 'dist', 'e', 'erf', 'erfc', 'exp', 'expm1', 'fabs', 'factorial', 'floor', 'fmod', 'frexp', 'fsum', 'gamma', 'gcd', 'hypot', 'inf', 'isclose', 'isfinite', 'isinf', 'isnan', 'isqrt', 'ldexp', 'lgamma', 'log', 'log10', 'log1p', 'log2', 'modf', 'nan', 'perm', 'pi', 'pow', 'prod', 'radians', 'remainder', 'sin', 'sinh', 'sqrt', 'tan', 'tanh', 'tau', 'trunc']\n"
     ]
    }
   ],
   "source": [
    "print(dir(m))"
   ]
  },
  {
   "cell_type": "code",
   "execution_count": 3,
   "metadata": {},
   "outputs": [],
   "source": [
    "num =18.9"
   ]
  },
  {
   "cell_type": "code",
   "execution_count": 4,
   "metadata": {},
   "outputs": [
    {
     "name": "stdout",
     "output_type": "stream",
     "text": [
      "19\n"
     ]
    }
   ],
   "source": [
    "print(m.ceil(num))"
   ]
  },
  {
   "cell_type": "code",
   "execution_count": 5,
   "metadata": {},
   "outputs": [
    {
     "name": "stdout",
     "output_type": "stream",
     "text": [
      "18\n"
     ]
    }
   ],
   "source": [
    "print(m.floor(num))"
   ]
  },
  {
   "cell_type": "code",
   "execution_count": 6,
   "metadata": {},
   "outputs": [],
   "source": [
    "import statistics as stat"
   ]
  },
  {
   "cell_type": "code",
   "execution_count": 7,
   "metadata": {},
   "outputs": [
    {
     "name": "stdout",
     "output_type": "stream",
     "text": [
      "['Counter', 'Decimal', 'Fraction', 'NormalDist', 'StatisticsError', '__all__', '__builtins__', '__cached__', '__doc__', '__file__', '__loader__', '__name__', '__package__', '__spec__', '_coerce', '_convert', '_exact_ratio', '_fail_neg', '_find_lteq', '_find_rteq', '_isfinite', '_normal_dist_inv_cdf', '_ss', '_sum', 'bisect_left', 'bisect_right', 'erf', 'exp', 'fabs', 'fmean', 'fsum', 'geometric_mean', 'groupby', 'harmonic_mean', 'hypot', 'itemgetter', 'log', 'math', 'mean', 'median', 'median_grouped', 'median_high', 'median_low', 'mode', 'multimode', 'numbers', 'pstdev', 'pvariance', 'quantiles', 'random', 'sqrt', 'stdev', 'tau', 'variance']\n"
     ]
    }
   ],
   "source": [
    "print(dir(stat))"
   ]
  },
  {
   "cell_type": "code",
   "execution_count": 8,
   "metadata": {},
   "outputs": [],
   "source": [
    "import random\n",
    "numbers = []\n",
    "counter = 1\n",
    "while counter <=100:\n",
    "    num = random.randint(10,65)\n",
    "    numbers.append(num)\n",
    "    counter +=1"
   ]
  },
  {
   "cell_type": "code",
   "execution_count": 9,
   "metadata": {},
   "outputs": [
    {
     "name": "stdout",
     "output_type": "stream",
     "text": [
      "39.02\n"
     ]
    }
   ],
   "source": [
    "print(stat.mean(numbers))"
   ]
  },
  {
   "cell_type": "code",
   "execution_count": 10,
   "metadata": {},
   "outputs": [
    {
     "name": "stdout",
     "output_type": "stream",
     "text": [
      "35.03314625430349\n"
     ]
    }
   ],
   "source": [
    "print(stat.geometric_mean(numbers))"
   ]
  },
  {
   "cell_type": "code",
   "execution_count": 11,
   "metadata": {},
   "outputs": [
    {
     "name": "stdout",
     "output_type": "stream",
     "text": [
      "30.583178803166604\n"
     ]
    }
   ],
   "source": [
    "print(stat.harmonic_mean(numbers))"
   ]
  },
  {
   "cell_type": "code",
   "execution_count": 13,
   "metadata": {},
   "outputs": [
    {
     "name": "stdout",
     "output_type": "stream",
     "text": [
      "welcome to python class\n"
     ]
    }
   ],
   "source": [
    "def greet(): # a function without a parameter\n",
    "    print('welcome to python class')\n",
    "greet()    "
   ]
  },
  {
   "cell_type": "code",
   "execution_count": 14,
   "metadata": {},
   "outputs": [
    {
     "name": "stdout",
     "output_type": "stream",
     "text": [
      "welcome to python class simeon\n"
     ]
    }
   ],
   "source": [
    "def greet2(name): # a function with one parameter\n",
    "    print(f'welcome to python class {name}')\n",
    "greet2('simeon')    "
   ]
  },
  {
   "cell_type": "code",
   "execution_count": 15,
   "metadata": {},
   "outputs": [
    {
     "name": "stdout",
     "output_type": "stream",
     "text": [
      "my name is aina and my gender is male\n",
      "sorry you are not eligible to vote\n"
     ]
    }
   ],
   "source": [
    "def person(name,gender,age): # a function with multiple parameter\n",
    "    print(f'my name is {name} and my gender is {gender}')\n",
    "    if age >= 18:\n",
    "        print('congratulations you are eligible to vote')\n",
    "    else:\n",
    "        print('sorry you are not eligible to vote')\n",
    "person('aina','male',10)        "
   ]
  },
  {
   "cell_type": "code",
   "execution_count": 18,
   "metadata": {},
   "outputs": [
    {
     "name": "stdout",
     "output_type": "stream",
     "text": [
      "the total is 3825.0, therefor the estimate is realistic\n"
     ]
    }
   ],
   "source": [
    "def estimate():\n",
    "    EST =4500\n",
    "    housing = (EST/100)*25\n",
    "    food = (EST/100)*35\n",
    "    fuel = (EST/100)*10\n",
    "    entertainment = (EST/100)*5\n",
    "    clothing = (EST/100)*10\n",
    "    total =housing+food+fuel+entertainment+clothing\n",
    "    if total<= EST:\n",
    "        print(f'the total is {total}, therefor the estimate is realistic')\n",
    "    else:\n",
    "        print('the total is {total},therefor the estimate is not realistic')\n",
    "estimate()        "
   ]
  },
  {
   "cell_type": "code",
   "execution_count": 20,
   "metadata": {},
   "outputs": [
    {
     "name": "stdout",
     "output_type": "stream",
     "text": [
      "<class 'tuple'>\n",
      "8.831760866327848\n",
      "9.219544457292887\n",
      "9.797958971132712\n",
      "5.0\n",
      "3.872983346207417\n",
      "6.928203230275509\n",
      "9.797958971132712\n",
      "9.899494936611665\n",
      "6.708203932499369\n",
      "4.795831523312719\n",
      "4.47213595499958\n",
      "4.58257569495584\n",
      "4.69041575982343\n",
      "4.898979485566356\n",
      "5.196152422706632\n"
     ]
    }
   ],
   "source": [
    "def calsqrt(*num):\n",
    "    print(type(num))\n",
    "    for i in num:\n",
    "        print(stat.sqrt(i))\n",
    "calsqrt(78,85,96,25,15,48,96,98,45,23,20,21,22,24,27)        "
   ]
  },
  {
   "cell_type": "code",
   "execution_count": 22,
   "metadata": {},
   "outputs": [
    {
     "name": "stdout",
     "output_type": "stream",
     "text": [
      "<class 'dict'>\n",
      "name:ade\n",
      "gender:male\n",
      "age:35\n",
      "height:1.9\n",
      "weight:75\n"
     ]
    }
   ],
   "source": [
    "def records(**details):\n",
    "    print(type(details))\n",
    "    for key,value in details.items():\n",
    "        print(f'{key}:{value}')\n",
    "records(name ='ade',gender='male',age=35,height=1.90,weight=75)        "
   ]
  },
  {
   "cell_type": "code",
   "execution_count": 1,
   "metadata": {},
   "outputs": [
    {
     "ename": "SyntaxError",
     "evalue": "invalid syntax (<ipython-input-1-82bbc5e18f8f>, line 11)",
     "output_type": "error",
     "traceback": [
      "\u001b[1;36m  File \u001b[1;32m\"<ipython-input-1-82bbc5e18f8f>\"\u001b[1;36m, line \u001b[1;32m11\u001b[0m\n\u001b[1;33m    any score below 40 grade f\u001b[0m\n\u001b[1;37m        ^\u001b[0m\n\u001b[1;31mSyntaxError\u001b[0m\u001b[1;31m:\u001b[0m invalid syntax\n"
     ]
    }
   ],
   "source": [
    "#assignment 1\n",
    "## write a function to check if a year a user is going to input will be a leap year or not\n",
    "\n",
    "# assignment 2\n",
    "##write function to calculate the grade of student in a 8 subject\n",
    "##from 70 to 100 grade A\n",
    "##from 60-69 grade B\n",
    "##from 50-59 gade C\n",
    "##from 45-49 grade D\n",
    "##from 40-44 grade E\n",
    "any score below 40 grade f"
   ]
  },
  {
   "cell_type": "code",
   "execution_count": 11,
   "metadata": {},
   "outputs": [
    {
     "name": "stdout",
     "output_type": "stream",
     "text": [
      "provide a year:2008\n",
      "2008 is a leap year\n"
     ]
    }
   ],
   "source": [
    "def leapyear():\n",
    "    year = int(input('provide a year:'))\n",
    "    if year% 400 ==0 and year % 100 != 0:\n",
    "        print(f'{year} is a leap year')\n",
    "    elif year % 100 == 0:\n",
    "        print(f'{year} is not a leap year')\n",
    "    elif year % 4 ==0:\n",
    "        print(f'{year} is a leap year')\n",
    "leapyear()        "
   ]
  },
  {
   "cell_type": "code",
   "execution_count": 6,
   "metadata": {},
   "outputs": [
    {
     "ename": "SyntaxError",
     "evalue": "invalid syntax (<ipython-input-6-d4499bca184e>, line 5)",
     "output_type": "error",
     "traceback": [
      "\u001b[1;36m  File \u001b[1;32m\"<ipython-input-6-d4499bca184e>\"\u001b[1;36m, line \u001b[1;32m5\u001b[0m\n\u001b[1;33m    records(grade A='70100',grade B='6069',grade C='5059',grade D='4549',grade E='4044',grade F='any score below 40')\u001b[0m\n\u001b[1;37m                  ^\u001b[0m\n\u001b[1;31mSyntaxError\u001b[0m\u001b[1;31m:\u001b[0m invalid syntax\n"
     ]
    }
   ],
   "source": [
    "def records(**details):\n",
    "    print(type(details))\n",
    "    for key,value in details.items():\n",
    "        print(f'{key}:{value}')\n",
    "records(grade A='70100',grade B='6069',grade C='5059',grade D='4549',grade E='4044',grade F='any score below 40') \n",
    "    if grade A >=70-100\n",
    "    if grade B>=60-69\n",
    "    if grade c>=50-59\n",
    "    if grade D>=45-49\n",
    "    print('you score grade A')\n",
    "else:\n",
    "    print('you score grade B')"
   ]
  },
  {
   "cell_type": "code",
   "execution_count": null,
   "metadata": {},
   "outputs": [],
   "source": []
  }
 ],
 "metadata": {
  "kernelspec": {
   "display_name": "Python 3",
   "language": "python",
   "name": "python3"
  },
  "language_info": {
   "codemirror_mode": {
    "name": "ipython",
    "version": 3
   },
   "file_extension": ".py",
   "mimetype": "text/x-python",
   "name": "python",
   "nbconvert_exporter": "python",
   "pygments_lexer": "ipython3",
   "version": "3.8.3"
  }
 },
 "nbformat": 4,
 "nbformat_minor": 4
}
