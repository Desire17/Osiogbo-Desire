{
 "cells": [
  {
   "cell_type": "code",
   "execution_count": 8,
   "metadata": {},
   "outputs": [],
   "source": [
    "import mysql.connector"
   ]
  },
  {
   "cell_type": "code",
   "execution_count": 10,
   "metadata": {},
   "outputs": [
    {
     "name": "stdout",
     "output_type": "stream",
     "text": [
      "('footballmanagementsystem',)\n",
      "('hospitalmanagementsystem',)\n",
      "('information_schema',)\n",
      "('mysql',)\n",
      "('performance_schema',)\n",
      "('sakila',)\n",
      "('schoolmanagementsystem',)\n",
      "('staffdetails',)\n",
      "('sys',)\n",
      "('world',)\n"
     ]
    }
   ],
   "source": [
    "mydb = mysql.connector.connect(\n",
    "    host = 'localhost',\n",
    "    user = 'root',\n",
    "    password = '1234'\n",
    ")   \n",
    " \n",
    "mycursor = mydb.cursor()\n",
    "mycursor.execute('SHOW DATABASES')\n",
    "for x in mycursor:\n",
    "    print(x)"
   ]
  },
  {
   "cell_type": "code",
   "execution_count": 12,
   "metadata": {},
   "outputs": [
    {
     "name": "stdout",
     "output_type": "stream",
     "text": [
      "('staffdetails',)\n",
      "('studentsperformance',)\n"
     ]
    }
   ],
   "source": [
    "mydb = mysql.connector.connect(\n",
    "    host = 'localhost',\n",
    "    user = 'root',\n",
    "    password = '1234',\n",
    "    database = 'schoolmanagementsystem'\n",
    ")\n",
    "\n",
    "mycursor = mydb.cursor()\n",
    "mycursor.execute('SHOW TABLES')\n",
    "for x in mycursor:\n",
    "    print(x)"
   ]
  },
  {
   "cell_type": "code",
   "execution_count": 13,
   "metadata": {},
   "outputs": [],
   "source": [
    "class dog:\n",
    "    attr1 = 'mammal'\n",
    "    attr2 = 'dog'\n",
    "obj = dog()    "
   ]
  },
  {
   "cell_type": "code",
   "execution_count": 14,
   "metadata": {},
   "outputs": [
    {
     "data": {
      "text/plain": [
       "'mammal'"
      ]
     },
     "execution_count": 14,
     "metadata": {},
     "output_type": "execute_result"
    }
   ],
   "source": [
    "obj.attr1"
   ]
  },
  {
   "cell_type": "code",
   "execution_count": 15,
   "metadata": {},
   "outputs": [
    {
     "data": {
      "text/plain": [
       "'dog'"
      ]
     },
     "execution_count": 15,
     "metadata": {},
     "output_type": "execute_result"
    }
   ],
   "source": [
    "obj.attr2"
   ]
  },
  {
   "cell_type": "code",
   "execution_count": 16,
   "metadata": {},
   "outputs": [],
   "source": [
    "class dog:\n",
    "    attr1 = 'mammal'\n",
    "    attr2 = 'dog'\n",
    "    def details(self):\n",
    "        print(f'''I belong to the kingdom of {self.attr1}\n",
    "I am a {self.attr2} with four legs        \n",
    "''')\n",
    "obj = dog()   "
   ]
  },
  {
   "cell_type": "code",
   "execution_count": 17,
   "metadata": {},
   "outputs": [
    {
     "name": "stdout",
     "output_type": "stream",
     "text": [
      "I belong to the kingdom of mammal\n",
      "I am a dog with four legs        \n",
      "\n"
     ]
    }
   ],
   "source": [
    "obj.details()"
   ]
  },
  {
   "cell_type": "code",
   "execution_count": 5,
   "metadata": {},
   "outputs": [
    {
     "name": "stdout",
     "output_type": "stream",
     "text": [
      "Mercedes Benz GLK has started\n",
      "None\n",
      "change your gear:1\n",
      "you just changed to gear one!\n",
      "None\n",
      "select 1 to engage nitro and 2 to disengage nitro1\n",
      "GLK nitro engaged\n",
      "None\n",
      "Mercedes Benz GLK has stopped\n",
      "None\n"
     ]
    }
   ],
   "source": [
    "class simulation :\n",
    "    def __init__(self,brand,model,color,year,speed):\n",
    "        self.brand = brand\n",
    "        self.model = model\n",
    "        self.color = color\n",
    "        self.year = year\n",
    "        self.speed = speed\n",
    "        \n",
    "    def start(self):\n",
    "        print(f'{self.brand} {self.model} has started')\n",
    "    def gear(self):\n",
    "        pick = int(input('change your gear:'))\n",
    "        if pick == 1:\n",
    "            print('you just changed to gear one!')\n",
    "        elif pick == 2:\n",
    "            print('you just changed to gear two!')\n",
    "        elif pick  == 3:\n",
    "            print('you just changed to gear three!')\n",
    "        elif pick == 4:\n",
    "            print('you just changed to gear four!')\n",
    "        elif pick == 5:\n",
    "            print('you just changed to gear five!')\n",
    "        elif pick == 6:\n",
    "            print('you just changed to gear reverse!')\n",
    "        else:\n",
    "            print('invalid operation')\n",
    "    def nitro(self):\n",
    "        pick = int(input('select 1 to engage nitro and 2 to disengage nitro'))\n",
    "        if pick == 1:\n",
    "            print(f'{self.model} nitro engaged')\n",
    "        elif pick ==2:\n",
    "            print(f'{self.model} nitro disengaged')\n",
    "        else:\n",
    "            print('Invalid operation')\n",
    "    def stop(self):\n",
    "            print(f'{self.brand} {self.model} has stopped')\n",
    "            \n",
    "car1 = simulation('Mercedes Benz','GLK','Black',2020,250)\n",
    "print(car1.start())\n",
    "print(car1.gear())\n",
    "print(car1.nitro())\n",
    "print(car1.stop())"
   ]
  },
  {
   "cell_type": "code",
   "execution_count": 28,
   "metadata": {},
   "outputs": [
    {
     "name": "stdout",
     "output_type": "stream",
     "text": [
      "Mercedes Benz ML350 has started\n",
      "None\n",
      "change your gear:2\n",
      "you just changed to gear two!\n",
      "None\n",
      "select 1 to engage nitro and 2 to disengage nitro1\n",
      "ML350 nitro engaged\n",
      "None\n",
      "Mercedes Benz ML350 has stopped\n",
      "None\n"
     ]
    }
   ],
   "source": [
    "class test(simulation):\n",
    "    def opentrunk(self):\n",
    "        pick = int(input('select 1 to open trunk and 2 to close trunk'))\n",
    "        if pick == 1:\n",
    "            print(f'{self.model} trunk opened')\n",
    "        elif pick ==2:\n",
    "            print(f'{self.model} trunk closed')\n",
    "        else:\n",
    "            print('Invalid operation')\n",
    "car2 = test('Mercedes Benz','ML350','White',2022,380)\n",
    "print(car2.start())\n",
    "print(car2.gear())\n",
    "print(car2.nitro())\n",
    "print(car2.stop())"
   ]
  },
  {
   "cell_type": "code",
   "execution_count": 7,
   "metadata": {},
   "outputs": [
    {
     "name": "stdout",
     "output_type": "stream",
     "text": [
      "zuki bmx has started\n",
      "None\n",
      "change your gear:2\n",
      "you just changed to gear two!\n",
      "None\n",
      "select 1 to engage brake and 2 to disengage brake1\n",
      "bmx brake engaged\n",
      "None\n",
      "zuki bmx has stopped\n",
      "None\n"
     ]
    }
   ],
   "source": [
    "class simulation:\n",
    "    def __init__(self,brand,model,color,tiresize,year,speed):\n",
    "        self.brand = brand\n",
    "        self.model = model\n",
    "        self.color = color\n",
    "        self.tiresize = tiresize\n",
    "        self.year = year\n",
    "        self.speed = speed\n",
    "        \n",
    "    def start(self):\n",
    "        print(f'{self.brand} {self.model} has started')\n",
    "    def gear(self):\n",
    "        pick = int(input('change your gear:'))\n",
    "        if pick == 1:\n",
    "            print('you just changed to gear one!')\n",
    "        elif pick == 2:\n",
    "            print('you just changed to gear two!')\n",
    "        elif pick  == 3:\n",
    "            print('you just changed to gear three!')\n",
    "        elif pick == 4:\n",
    "            print('you just changed to gear four!')\n",
    "        elif pick == 5:\n",
    "            print('you just changed to gear five!')\n",
    "        elif pick == 6:\n",
    "            print('you just changed to gear reverse!')\n",
    "        else:\n",
    "            print('invalid operation')\n",
    "    def brake(self):\n",
    "        pick = int(input('select 1 to engage brake and 2 to disengage brake'))\n",
    "        if pick == 1:\n",
    "            print(f'{self.model} brake engaged')\n",
    "        elif pick ==2:\n",
    "            print(f'{self.model} brake disengaged')\n",
    "        else:\n",
    "            print('Invalid operation')\n",
    "    def stop(self):\n",
    "            print(f'{self.brand} {self.model} has stopped')\n",
    "            \n",
    "bike = simulation('zuki','bmx','black','16',2020,250)\n",
    "print(bike.start())\n",
    "print(bike.gear())\n",
    "print(bike.brake())\n",
    "print(bike.stop())"
   ]
  },
  {
   "cell_type": "code",
   "execution_count": null,
   "metadata": {},
   "outputs": [],
   "source": [
    "class test(bike_sim):\n",
    "    def shade(self):\n",
    "        choice = int(input('select 1 to choose to bring down shade or 2 to leave shade:'))\n",
    "        if choice == 1:\n",
    "            print(f'(self.model)does not have a shade')\n",
    "        elif choice == 2:\n",
    "            print(f'(self.model) has a shade')\n",
    "        else:\n",
    "            print('invalid operation')\n",
    "bike2 = test('zuki,''As 52 maverick ,''blue,')            "
   ]
  }
 ],
 "metadata": {
  "kernelspec": {
   "display_name": "Python 3",
   "language": "python",
   "name": "python3"
  },
  "language_info": {
   "codemirror_mode": {
    "name": "ipython",
    "version": 3
   },
   "file_extension": ".py",
   "mimetype": "text/x-python",
   "name": "python",
   "nbconvert_exporter": "python",
   "pygments_lexer": "ipython3",
   "version": "3.8.3"
  }
 },
 "nbformat": 4,
 "nbformat_minor": 4
}
