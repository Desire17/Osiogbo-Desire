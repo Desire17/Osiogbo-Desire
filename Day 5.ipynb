{
 "cells": [
  {
   "cell_type": "code",
   "execution_count": 2,
   "metadata": {},
   "outputs": [
    {
     "name": "stdout",
     "output_type": "stream",
     "text": [
      "d\n",
      "i\n",
      "c\n",
      "t\n",
      "i\n",
      "o\n",
      "n\n",
      "a\n",
      "r\n",
      "y\n"
     ]
    }
   ],
   "source": [
    "word ='dictionary'\n",
    "for x in word:\n",
    "    print(x)"
   ]
  },
  {
   "cell_type": "code",
   "execution_count": 3,
   "metadata": {},
   "outputs": [
    {
     "name": "stdout",
     "output_type": "stream",
     "text": [
      "hey ade this is a quick reminder of the meeting schedule to hold by 4pm on sunday, have a lovely day\n",
      "hey ojo this is a quick reminder of the meeting schedule to hold by 4pm on sunday, have a lovely day\n",
      "hey mary this is a quick reminder of the meeting schedule to hold by 4pm on sunday, have a lovely day\n",
      "hey jane this is a quick reminder of the meeting schedule to hold by 4pm on sunday, have a lovely day\n",
      "hey mercy this is a quick reminder of the meeting schedule to hold by 4pm on sunday, have a lovely day\n"
     ]
    }
   ],
   "source": [
    "friends = ('ade','ojo','mary','jane','mercy')\n",
    "for name in friends :\n",
    "    print(f'hey {name} this is a quick reminder of the meeting schedule to hold by 4pm on sunday, have a lovely day')"
   ]
  },
  {
   "cell_type": "code",
   "execution_count": 5,
   "metadata": {},
   "outputs": [
    {
     "name": "stdout",
     "output_type": "stream",
     "text": [
      "please provide your name:okon\n",
      "hey you are not our student\n",
      "hey you are not our student\n",
      "your score is 95\n",
      "hey you are not our student\n"
     ]
    }
   ],
   "source": [
    "records ={\n",
    "    'james':90,\n",
    "    'mary ann':100,\n",
    "    'okon':95,\n",
    "    'simeon':88\n",
    "}\n",
    "name = input('please provide your name:')\n",
    "for keys in records:\n",
    "    if name == keys:\n",
    "        print(f'your score is {records[name]}')\n",
    "    else:\n",
    "        print('hey you are not our student')"
   ]
  },
  {
   "cell_type": "code",
   "execution_count": 7,
   "metadata": {},
   "outputs": [
    {
     "name": "stdout",
     "output_type": "stream",
     "text": [
      "please provide your name:mary ann\n",
      "hey you are not our student\n",
      "your score is 100\n"
     ]
    }
   ],
   "source": [
    "records ={\n",
    "    'james':90,\n",
    "    'mary ann':100,\n",
    "    'okon':95,\n",
    "    'simeon':88\n",
    "}\n",
    "name = input('please provide your name:')\n",
    "for keys in records:\n",
    "    if name == keys:\n",
    "        print(f'your score is {records[name]}')\n",
    "        break\n",
    "    else:   \n",
    "        print('hey you are not our student')"
   ]
  },
  {
   "cell_type": "code",
   "execution_count": 10,
   "metadata": {},
   "outputs": [
    {
     "name": "stdout",
     "output_type": "stream",
     "text": [
      "please provide your name:okon\n",
      "hey you are not our student\n",
      "hey you are not our student\n",
      "your score is 95\n",
      "hey you are not our student\n",
      "hey you are not our student\n"
     ]
    }
   ],
   "source": [
    "records ={\n",
    "    'james':90,\n",
    "    'mary ann':100,\n",
    "    'okon':95,\n",
    "    'simeon':88\n",
    "}\n",
    "name = input('please provide your name:')\n",
    "for keys in records:\n",
    "    if name == keys:\n",
    "        print(f'your score is {records[name]}')\n",
    "    else:\n",
    "        print('hey you are not our student')\n",
    "    continue\n",
    "else:\n",
    "        print('hey you are not our student')"
   ]
  },
  {
   "cell_type": "code",
   "execution_count": 16,
   "metadata": {},
   "outputs": [
    {
     "name": "stdout",
     "output_type": "stream",
     "text": [
      "please provide your name:james\n",
      "your score is 80\n",
      "hey you are not our student\n",
      "hey you are not our student\n",
      "hey you are not our student\n"
     ]
    }
   ],
   "source": [
    "records ={\n",
    "    'james':[90,80,95],\n",
    "    'mary ann':100,\n",
    "    'okon':95,\n",
    "    'simeon':88\n",
    "}\n",
    "name = input('please provide your name:')\n",
    "for keys in records:\n",
    "    if name == keys:\n",
    "        print(f'your score is {records[name][1]}')\n",
    "        pass\n",
    "    else:\n",
    "        print('hey you are not our student')"
   ]
  },
  {
   "cell_type": "code",
   "execution_count": 17,
   "metadata": {},
   "outputs": [],
   "source": [
    "import random"
   ]
  },
  {
   "cell_type": "code",
   "execution_count": 18,
   "metadata": {},
   "outputs": [
    {
     "name": "stdout",
     "output_type": "stream",
     "text": [
      "['BPF', 'LOG4', 'NV_MAGICCONST', 'RECIP_BPF', 'Random', 'SG_MAGICCONST', 'SystemRandom', 'TWOPI', '_Sequence', '_Set', '__all__', '__builtins__', '__cached__', '__doc__', '__file__', '__loader__', '__name__', '__package__', '__spec__', '_accumulate', '_acos', '_bisect', '_ceil', '_cos', '_e', '_exp', '_inst', '_log', '_os', '_pi', '_random', '_repeat', '_sha512', '_sin', '_sqrt', '_test', '_test_generator', '_urandom', '_warn', 'betavariate', 'choice', 'choices', 'expovariate', 'gammavariate', 'gauss', 'getrandbits', 'getstate', 'lognormvariate', 'normalvariate', 'paretovariate', 'randint', 'random', 'randrange', 'sample', 'seed', 'setstate', 'shuffle', 'triangular', 'uniform', 'vonmisesvariate', 'weibullvariate']\n"
     ]
    }
   ],
   "source": [
    "print(dir(random))"
   ]
  },
  {
   "cell_type": "code",
   "execution_count": 21,
   "metadata": {},
   "outputs": [],
   "source": [
    "import random\n",
    "numbers = []\n",
    "counter = 1\n",
    "while counter <=100:\n",
    "    num = random.randint(10,65)\n",
    "    numbers.append(num)\n",
    "    counter +=1"
   ]
  },
  {
   "cell_type": "code",
   "execution_count": 22,
   "metadata": {},
   "outputs": [
    {
     "name": "stdout",
     "output_type": "stream",
     "text": [
      "[58, 62, 12, 49, 34, 49, 52, 58, 60, 40, 10, 15, 60, 37, 13, 57, 35, 52, 35, 56, 19, 52, 10, 48, 27, 29, 17, 26, 19, 10, 27, 37, 56, 39, 32, 29, 38, 58, 50, 42, 16, 46, 52, 44, 44, 64, 52, 47, 11, 48, 52, 44, 58, 42, 36, 23, 33, 35, 50, 20, 36, 46, 35, 52, 26, 24, 34, 26, 53, 34, 43, 34, 12, 24, 20, 55, 58, 14, 39, 62, 35, 40, 35, 41, 26, 11, 42, 49, 14, 23, 50, 60, 65, 61, 34, 36, 62, 14, 11, 32]\n"
     ]
    }
   ],
   "source": [
    "print(numbers)"
   ]
  },
  {
   "cell_type": "markdown",
   "metadata": {},
   "source": [
    "len(numbers)"
   ]
  },
  {
   "cell_type": "code",
   "execution_count": 33,
   "metadata": {},
   "outputs": [
    {
     "name": "stdout",
     "output_type": "stream",
     "text": [
      "please enter your guess for the generated numbers between 1 - 20:9\n",
      "your guess is 9\n",
      "hey guess to low\n",
      "please enter your guess for the generated numbers between 1 - 20:7\n",
      "your guess is 7\n",
      "hey guess to low\n",
      "please enter your guess for the generated numbers between 1 - 20:10\n",
      "your guess is 10\n",
      "hey guess to low\n",
      "please enter your guess for the generated numbers between 1 - 20:15\n",
      "your guess is 15\n",
      "hey guess to low\n",
      "please enter your guess for the generated numbers between 1 - 20:19\n",
      "your guess is 19\n",
      "hey guess too high\n",
      "please enter your guess for the generated numbers between 1 - 20:18\n",
      "your guess is 18\n",
      "hey guess too high\n",
      "please enter your guess for the generated numbers between 1 - 20:17\n",
      "your guess is 17\n",
      "hey guess too high\n",
      "please enter your guess for the generated numbers between 1 - 20:16\n",
      "congratulations guess is correct,good job\n"
     ]
    }
   ],
   "source": [
    "num = random.randint(1,20)\n",
    "guess = 1\n",
    "guesses = int(input('please enter your guess for the generated numbers between 1 - 20:'))\n",
    "\n",
    "while guesses != num:\n",
    "    print(f'your guess is {guesses}')\n",
    "    guess +=1\n",
    "    \n",
    "    if guesses> num:\n",
    "        print('hey guess too high')\n",
    "    elif guesses< num:\n",
    "        print('hey guess to low')\n",
    "    guesses = int(input('please enter your guess for the generated numbers between 1 - 20:'))\n",
    "print('congratulations guess is correct,good job')    "
   ]
  },
  {
   "cell_type": "code",
   "execution_count": null,
   "metadata": {},
   "outputs": [],
   "source": []
  },
  {
   "cell_type": "code",
   "execution_count": null,
   "metadata": {},
   "outputs": [],
   "source": []
  }
 ],
 "metadata": {
  "kernelspec": {
   "display_name": "Python 3",
   "language": "python",
   "name": "python3"
  },
  "language_info": {
   "codemirror_mode": {
    "name": "ipython",
    "version": 3
   },
   "file_extension": ".py",
   "mimetype": "text/x-python",
   "name": "python",
   "nbconvert_exporter": "python",
   "pygments_lexer": "ipython3",
   "version": "3.8.3"
  }
 },
 "nbformat": 4,
 "nbformat_minor": 4
}
