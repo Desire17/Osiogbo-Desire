{
 "cells": [
  {
   "cell_type": "code",
   "execution_count": 1,
   "metadata": {},
   "outputs": [],
   "source": [
    "import datetime"
   ]
  },
  {
   "cell_type": "code",
   "execution_count": 2,
   "metadata": {},
   "outputs": [
    {
     "name": "stdout",
     "output_type": "stream",
     "text": [
      "['MAXYEAR', 'MINYEAR', '__builtins__', '__cached__', '__doc__', '__file__', '__loader__', '__name__', '__package__', '__spec__', 'date', 'datetime', 'datetime_CAPI', 'sys', 'time', 'timedelta', 'timezone', 'tzinfo']\n"
     ]
    }
   ],
   "source": [
    "print(dir(datetime))"
   ]
  },
  {
   "cell_type": "code",
   "execution_count": 3,
   "metadata": {},
   "outputs": [],
   "source": [
    "date1 = datetime.date(2021,5,25)"
   ]
  },
  {
   "cell_type": "code",
   "execution_count": 4,
   "metadata": {},
   "outputs": [
    {
     "name": "stdout",
     "output_type": "stream",
     "text": [
      "2021-05-25\n"
     ]
    }
   ],
   "source": [
    "print(date1)"
   ]
  },
  {
   "cell_type": "code",
   "execution_count": 6,
   "metadata": {},
   "outputs": [
    {
     "name": "stdout",
     "output_type": "stream",
     "text": [
      "2021\n",
      "5\n",
      "25\n"
     ]
    }
   ],
   "source": [
    "print(date1.year)\n",
    "print(date1.month)\n",
    "print(date1.day)"
   ]
  },
  {
   "cell_type": "code",
   "execution_count": 7,
   "metadata": {},
   "outputs": [],
   "source": [
    "currentdate = datetime.date.today()"
   ]
  },
  {
   "cell_type": "code",
   "execution_count": 8,
   "metadata": {},
   "outputs": [
    {
     "name": "stdout",
     "output_type": "stream",
     "text": [
      "2022-03-14\n"
     ]
    }
   ],
   "source": [
    "print(currentdate)"
   ]
  },
  {
   "cell_type": "code",
   "execution_count": 9,
   "metadata": {},
   "outputs": [],
   "source": [
    "#strftime is used for the modification of date and time "
   ]
  },
  {
   "cell_type": "code",
   "execution_count": 16,
   "metadata": {},
   "outputs": [
    {
     "data": {
      "text/plain": [
       "'March 14,2022'"
      ]
     },
     "execution_count": 16,
     "metadata": {},
     "output_type": "execute_result"
    }
   ],
   "source": [
    "currentdate.strftime('%B %d,%Y')"
   ]
  },
  {
   "cell_type": "code",
   "execution_count": 19,
   "metadata": {},
   "outputs": [],
   "source": [
    "currenttime = datetime.datetime.now().time()"
   ]
  },
  {
   "cell_type": "code",
   "execution_count": 20,
   "metadata": {},
   "outputs": [
    {
     "name": "stdout",
     "output_type": "stream",
     "text": [
      "10:47:15.613702\n"
     ]
    }
   ],
   "source": [
    "print(currenttime)"
   ]
  },
  {
   "cell_type": "code",
   "execution_count": 22,
   "metadata": {},
   "outputs": [
    {
     "name": "stdout",
     "output_type": "stream",
     "text": [
      "10\n",
      "47\n",
      "15\n",
      "613702\n"
     ]
    }
   ],
   "source": [
    "print(currenttime.hour)\n",
    "print(currenttime.minute)\n",
    "print(currenttime.second)\n",
    "print(currenttime.microsecond)"
   ]
  },
  {
   "cell_type": "code",
   "execution_count": 29,
   "metadata": {},
   "outputs": [
    {
     "data": {
      "text/plain": [
       "'10:47:15'"
      ]
     },
     "execution_count": 29,
     "metadata": {},
     "output_type": "execute_result"
    }
   ],
   "source": [
    "currenttime.strftime('%X')"
   ]
  },
  {
   "cell_type": "code",
   "execution_count": 30,
   "metadata": {},
   "outputs": [],
   "source": [
    "currentdatetime = datetime.datetime.now()"
   ]
  },
  {
   "cell_type": "code",
   "execution_count": 31,
   "metadata": {},
   "outputs": [
    {
     "name": "stdout",
     "output_type": "stream",
     "text": [
      "2022-03-14 10:55:36.498563\n"
     ]
    }
   ],
   "source": [
    "print(currentdatetime)"
   ]
  },
  {
   "cell_type": "code",
   "execution_count": 33,
   "metadata": {},
   "outputs": [
    {
     "data": {
      "text/plain": [
       "'Mon Mar 14 10:55:36 2022'"
      ]
     },
     "execution_count": 33,
     "metadata": {},
     "output_type": "execute_result"
    }
   ],
   "source": [
    "currentdatetime.strftime('%c')"
   ]
  },
  {
   "cell_type": "code",
   "execution_count": 34,
   "metadata": {},
   "outputs": [],
   "source": [
    "#strptime is used to convert a date in string format to datetime format"
   ]
  },
  {
   "cell_type": "code",
   "execution_count": 36,
   "metadata": {},
   "outputs": [
    {
     "name": "stdout",
     "output_type": "stream",
     "text": [
      "Please enter your date of birth(mm/dd/yy)02/22/2023\n",
      "Your next birth will be in the next 345 days\n"
     ]
    }
   ],
   "source": [
    "strdate = input('Please enter your date of birth(mm/dd/yy)')\n",
    "bdate = datetime.datetime.strptime(strdate,'%m/%d/%Y').date()\n",
    "nextbirthday = bdate - currentdate\n",
    "print('Your next birth will be in the next %d days' %nextbirthday.days)"
   ]
  },
  {
   "cell_type": "code",
   "execution_count": 37,
   "metadata": {},
   "outputs": [
    {
     "name": "stdout",
     "output_type": "stream",
     "text": [
      "2023-07-27 10:55:36.498563\n"
     ]
    }
   ],
   "source": [
    "#timedelta: is simply the difference between two dates or two time \n",
    "tdelta = datetime.timedelta(days =500)\n",
    "print(currentdatetime + tdelta)"
   ]
  },
  {
   "cell_type": "code",
   "execution_count": 38,
   "metadata": {},
   "outputs": [],
   "source": [
    "#Exercise \n",
    "# write a python program to tell a user how many weeks and days the user has to his/her appointment date"
   ]
  },
  {
   "cell_type": "code",
   "execution_count": 39,
   "metadata": {},
   "outputs": [
    {
     "name": "stdout",
     "output_type": "stream",
     "text": [
      "Please enter your date of appointment (mm/dd/yy)11/05/2022\n",
      "Your next appointment will be in the next 236 days\n"
     ]
    }
   ],
   "source": [
    "strdate = input('Please enter your date of appointment (mm/dd/yy)')\n",
    "adate = datetime.datetime.strptime(strdate,'%m/%d/%Y').date()\n",
    "nextappointment = adate - currentdate\n",
    "print('Your next appointment will be in the next %d days' %nextappointment.days)"
   ]
  },
  {
   "cell_type": "code",
   "execution_count": 40,
   "metadata": {},
   "outputs": [
    {
     "name": "stdout",
     "output_type": "stream",
     "text": [
      "2022-04-18 10:55:36.498563\n"
     ]
    }
   ],
   "source": [
    "tdelta = datetime.timedelta(days =35)\n",
    "print(currentdatetime + tdelta)"
   ]
  },
  {
   "cell_type": "code",
   "execution_count": 52,
   "metadata": {},
   "outputs": [
    {
     "name": "stdout",
     "output_type": "stream",
     "text": [
      "Please enter your date of appointment (mm/dd/yy)03/30/2022\n",
      "Your next appointment will be in the next 16 days\n"
     ]
    }
   ],
   "source": [
    "strdate = input('Please enter your date of appointment (mm/dd/yy)')\n",
    "adate = datetime.datetime.strptime(strdate,'%m/%d/%Y').date()\n",
    "nextappointment = adate - currentdate\n",
    "print('Your next appointment will be in the next %d days' %nextappointment.days)"
   ]
  },
  {
   "cell_type": "code",
   "execution_count": 54,
   "metadata": {},
   "outputs": [
    {
     "name": "stdout",
     "output_type": "stream",
     "text": [
      "Please input your name:drip\n",
      "Please enter your appointment date (dd/mm/yy):30/08/2022\n",
      "Hey drip you have 24 weeks and 1 days until your appointment\n"
     ]
    }
   ],
   "source": [
    "name = input('Please input your name:')\n",
    "user_date = input('Please enter your appointment date (dd/mm/yy):')\n",
    "currentdate = datetime.date.today()\n",
    "c_user_date = datetime.datetime.strptime(user_date, '%d/%m/%Y').date()\n",
    "tnodays = c_user_date -currentdate\n",
    "noweeks = tnodays.days // 7\n",
    "nodays = tnodays.days % 7\n",
    "print(f'Hey {name} you have {noweeks} weeks and {nodays} days until your appointment')"
   ]
  },
  {
   "cell_type": "raw",
   "metadata": {},
   "source": [
    "assignment"
   ]
  },
  {
   "cell_type": "code",
   "execution_count": 2,
   "metadata": {},
   "outputs": [],
   "source": [
    "import datetime"
   ]
  },
  {
   "cell_type": "code",
   "execution_count": 4,
   "metadata": {},
   "outputs": [
    {
     "name": "stdout",
     "output_type": "stream",
     "text": [
      "['MAXYEAR', 'MINYEAR', '__builtins__', '__cached__', '__doc__', '__file__', '__loader__', '__name__', '__package__', '__spec__', 'date', 'datetime', 'datetime_CAPI', 'sys', 'time', 'timedelta', 'timezone', 'tzinfo']\n"
     ]
    }
   ],
   "source": [
    "print(dir(datetime))"
   ]
  },
  {
   "cell_type": "code",
   "execution_count": 8,
   "metadata": {},
   "outputs": [],
   "source": [
    "currentdate = datetime.date.today()"
   ]
  },
  {
   "cell_type": "code",
   "execution_count": 10,
   "metadata": {},
   "outputs": [
    {
     "name": "stdout",
     "output_type": "stream",
     "text": [
      "10:19:32.801481\n"
     ]
    }
   ],
   "source": [
    "print(currenttime)"
   ]
  },
  {
   "cell_type": "code",
   "execution_count": 11,
   "metadata": {},
   "outputs": [],
   "source": [
    "currentdatetime = datetime.datetime.now()"
   ]
  },
  {
   "cell_type": "code",
   "execution_count": 12,
   "metadata": {},
   "outputs": [
    {
     "name": "stdout",
     "output_type": "stream",
     "text": [
      "2022-03-16 10:24:45.904453\n"
     ]
    }
   ],
   "source": [
    "print(currentdatetime)"
   ]
  },
  {
   "cell_type": "code",
   "execution_count": 13,
   "metadata": {},
   "outputs": [
    {
     "data": {
      "text/plain": [
       "'2022'"
      ]
     },
     "execution_count": 13,
     "metadata": {},
     "output_type": "execute_result"
    }
   ],
   "source": [
    "currentdate.strftime('%Y')"
   ]
  },
  {
   "cell_type": "code",
   "execution_count": 14,
   "metadata": {},
   "outputs": [
    {
     "data": {
      "text/plain": [
       "'March'"
      ]
     },
     "execution_count": 14,
     "metadata": {},
     "output_type": "execute_result"
    }
   ],
   "source": [
    "currentdate.strftime('%B')"
   ]
  },
  {
   "cell_type": "code",
   "execution_count": null,
   "metadata": {},
   "outputs": [],
   "source": []
  }
 ],
 "metadata": {
  "kernelspec": {
   "display_name": "Python 3",
   "language": "python",
   "name": "python3"
  },
  "language_info": {
   "codemirror_mode": {
    "name": "ipython",
    "version": 3
   },
   "file_extension": ".py",
   "mimetype": "text/x-python",
   "name": "python",
   "nbconvert_exporter": "python",
   "pygments_lexer": "ipython3",
   "version": "3.8.3"
  }
 },
 "nbformat": 4,
 "nbformat_minor": 4
}
