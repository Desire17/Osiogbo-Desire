{
 "cells": [
  {
   "cell_type": "code",
   "execution_count": 1,
   "metadata": {},
   "outputs": [],
   "source": [
    "records={\n",
    " 'name':'simeon',\n",
    " 'gender':'male',\n",
    " 'age':45,    \n",
    "  'height':1.80,  \n",
    "   'weight':75 \n",
    "}    "
   ]
  },
  {
   "cell_type": "code",
   "execution_count": 2,
   "metadata": {},
   "outputs": [
    {
     "data": {
      "text/plain": [
       "45"
      ]
     },
     "execution_count": 2,
     "metadata": {},
     "output_type": "execute_result"
    }
   ],
   "source": [
    "records['age']"
   ]
  },
  {
   "cell_type": "code",
   "execution_count": 3,
   "metadata": {},
   "outputs": [
    {
     "data": {
      "text/plain": [
       "dict_keys(['name', 'gender', 'age', 'height', 'weight'])"
      ]
     },
     "execution_count": 3,
     "metadata": {},
     "output_type": "execute_result"
    }
   ],
   "source": [
    "records.keys()"
   ]
  },
  {
   "cell_type": "code",
   "execution_count": 4,
   "metadata": {},
   "outputs": [
    {
     "data": {
      "text/plain": [
       "dict_values(['simeon', 'male', 45, 1.8, 75])"
      ]
     },
     "execution_count": 4,
     "metadata": {},
     "output_type": "execute_result"
    }
   ],
   "source": [
    "records.values()"
   ]
  },
  {
   "cell_type": "code",
   "execution_count": 5,
   "metadata": {},
   "outputs": [
    {
     "data": {
      "text/plain": [
       "dict_items([('name', 'simeon'), ('gender', 'male'), ('age', 45), ('height', 1.8), ('weight', 75)])"
      ]
     },
     "execution_count": 5,
     "metadata": {},
     "output_type": "execute_result"
    }
   ],
   "source": [
    "records.items()"
   ]
  },
  {
   "cell_type": "code",
   "execution_count": 6,
   "metadata": {},
   "outputs": [],
   "source": [
    "r={'height':1.82}\n",
    "records.update(r)"
   ]
  },
  {
   "cell_type": "code",
   "execution_count": 7,
   "metadata": {},
   "outputs": [
    {
     "name": "stdout",
     "output_type": "stream",
     "text": [
      "{'name': 'simeon', 'gender': 'male', 'age': 45, 'height': 1.82, 'weight': 75}\n"
     ]
    }
   ],
   "source": [
    "print(records)"
   ]
  },
  {
   "cell_type": "code",
   "execution_count": 19,
   "metadata": {},
   "outputs": [
    {
     "data": {
      "text/plain": [
       "('height', 1.82)"
      ]
     },
     "execution_count": 19,
     "metadata": {},
     "output_type": "execute_result"
    }
   ],
   "source": [
    "records.popitem()"
   ]
  },
  {
   "cell_type": "code",
   "execution_count": 15,
   "metadata": {},
   "outputs": [],
   "source": [
    "family={\n",
    "    'firstchild':['ojo akin','male',35,1.90,85],\n",
    "    'secondchild':['mary akin','female',27,1.70,80],\n",
    "    'thirdchild':['rose akin','female',22,1.80,70]\n",
    "}"
   ]
  },
  {
   "cell_type": "code",
   "execution_count": 16,
   "metadata": {},
   "outputs": [
    {
     "data": {
      "text/plain": [
       "1.9"
      ]
     },
     "execution_count": 16,
     "metadata": {},
     "output_type": "execute_result"
    }
   ],
   "source": [
    "family['firstchild'][3]"
   ]
  },
  {
   "cell_type": "code",
   "execution_count": 18,
   "metadata": {},
   "outputs": [],
   "source": [
    "num=5 \n",
    "if num >10\n",
    "   print(f'Yes{num}is greater than 10')"
   ]
  },
  {
   "cell_type": "code",
   "execution_count": 22,
   "metadata": {},
   "outputs": [
    {
     "name": "stdout",
     "output_type": "stream",
     "text": [
      "oops 5 is less than 10\n"
     ]
    }
   ],
   "source": [
    "num=5\n",
    "if num>10:\n",
    "    print(f'yes{num}is greater than 10')\n",
    "else:\n",
    "    print(f'oops {num} is less than 10')"
   ]
  },
  {
   "cell_type": "code",
   "execution_count": 29,
   "metadata": {},
   "outputs": [
    {
     "name": "stdout",
     "output_type": "stream",
     "text": [
      "Drivers's speed:200\n",
      "You are above the speed limit point by 26.0point,which is above the leveled point,Lisence suspended\n"
     ]
    }
   ],
   "source": [
    "speed = 70\n",
    "speed2 = float(input('Drivers\\'s speed:'))\n",
    "if speed2 <=speed:\n",
    "    print('on track keep it up')\n",
    "else:\n",
    "    speed3=(speed2-speed)//5\n",
    "    if speed3 <= 12:\n",
    "        print(f'You are above the speed limit point by {speed3}point,which is still ok bewarned')\n",
    "    else:\n",
    "        print(f'You are above the speed limit point by {speed3}point,which is above the leveled point,Lisence suspended')"
   ]
  },
  {
   "cell_type": "code",
   "execution_count": 30,
   "metadata": {},
   "outputs": [
    {
     "name": "stdout",
     "output_type": "stream",
     "text": [
      "Drivers's speed:150\n",
      "You are above the speed limit point by 16.0point,which is above the leveled point,Lisence suspended\n"
     ]
    }
   ],
   "source": [
    "speed = 70\n",
    "speed2 = float(input('Drivers\\'s speed:'))\n",
    "speed3=(speed2-speed)//5\n",
    "if speed2 <=speed:\n",
    "    print('on track keep it up')\n",
    "elif speed3<=12:\n",
    "    print(f'You are above the speed limit point by {speed3}point,which is still ok bewarned')\n",
    "else:\n",
    "    print(f'You are above the speed limit point by {speed3}point,which is above the leveled point,Lisence suspended')    "
   ]
  },
  {
   "cell_type": "code",
   "execution_count": 31,
   "metadata": {},
   "outputs": [
    {
     "name": "stdout",
     "output_type": "stream",
     "text": [
      "WELCOME TO PRONET MALL\n",
      "1.EARLYCODE)\n",
      "2.PARTIPAK\n",
      "3.LOUNGE\n",
      "4.THERMOCOOL SHOWROOM\n",
      "5.BARBING SALOON\n",
      "\n",
      "please select which of the office you are helding too from the above list by inputing the number of the office:3\n",
      "welcome you will directed to the lounge\n"
     ]
    }
   ],
   "source": [
    "print('WELCOME TO PRONET MALL')\n",
    "print('''1.EARLYCODE)\n",
    "2.PARTIPAK\n",
    "3.LOUNGE\n",
    "4.THERMOCOOL SHOWROOM\n",
    "5.BARBING SALOON\n",
    "''')\n",
    "choice = int(input('please select which of the office you are helding too from the above list by inputing the number of the office:'))\n",
    "\n",
    "if choice == 1:\n",
    "    print('welcome you will directed to earlycode')\n",
    "elif choice == 2:\n",
    "    print('welcome you will  directed to partipak')\n",
    "elif choice == 3:\n",
    "    print('welcome you will directed to the lounge')\n",
    "elif choice == 4:\n",
    "    print('welcome you will directed to the thermocool showroom')\n",
    "elif choice == 5:\n",
    "    print('welcome you will directed to the barbing saloon')\n",
    "else:\n",
    "    print('Invalid operation')"
   ]
  },
  {
   "cell_type": "markdown",
   "metadata": {},
   "source": [
    "# question 1"
   ]
  },
  {
   "cell_type": "code",
   "execution_count": 1,
   "metadata": {},
   "outputs": [
    {
     "name": "stdout",
     "output_type": "stream",
     "text": [
      "your current salary:100000\n",
      "how many years have you been working for us? 2\n"
     ]
    },
    {
     "ename": "NameError",
     "evalue": "name 'salary' is not defined",
     "output_type": "error",
     "traceback": [
      "\u001b[1;31m---------------------------------------------------------------------------\u001b[0m",
      "\u001b[1;31mNameError\u001b[0m                                 Traceback (most recent call last)",
      "\u001b[1;32m<ipython-input-1-2904ae7ae84f>\u001b[0m in \u001b[0;36m<module>\u001b[1;34m\u001b[0m\n\u001b[0;32m      1\u001b[0m \u001b[0msalry\u001b[0m\u001b[1;33m=\u001b[0m\u001b[0mfloat\u001b[0m\u001b[1;33m(\u001b[0m\u001b[0minput\u001b[0m\u001b[1;33m(\u001b[0m\u001b[1;34m'your current salary:'\u001b[0m\u001b[1;33m)\u001b[0m\u001b[1;33m)\u001b[0m\u001b[1;33m\u001b[0m\u001b[1;33m\u001b[0m\u001b[0m\n\u001b[0;32m      2\u001b[0m \u001b[0myrs\u001b[0m \u001b[1;33m=\u001b[0m\u001b[0mint\u001b[0m\u001b[1;33m(\u001b[0m\u001b[0minput\u001b[0m\u001b[1;33m(\u001b[0m\u001b[1;34m'how many years have you been working for us? '\u001b[0m\u001b[1;33m)\u001b[0m\u001b[1;33m)\u001b[0m\u001b[1;33m\u001b[0m\u001b[1;33m\u001b[0m\u001b[0m\n\u001b[1;32m----> 3\u001b[1;33m \u001b[0mnewsal\u001b[0m\u001b[1;33m=\u001b[0m\u001b[1;33m(\u001b[0m\u001b[1;33m(\u001b[0m\u001b[1;36m5\u001b[0m\u001b[1;33m/\u001b[0m\u001b[0msalary\u001b[0m\u001b[1;33m)\u001b[0m\u001b[1;33m*\u001b[0m\u001b[1;36m100\u001b[0m\u001b[1;33m)\u001b[0m \u001b[1;33m+\u001b[0m \u001b[0msalary\u001b[0m\u001b[1;33m\u001b[0m\u001b[1;33m\u001b[0m\u001b[0m\n\u001b[0m\u001b[0;32m      4\u001b[0m \u001b[1;32mif\u001b[0m \u001b[0myrs\u001b[0m\u001b[1;33m>=\u001b[0m\u001b[1;36m5\u001b[0m\u001b[1;33m:\u001b[0m\u001b[1;33m\u001b[0m\u001b[1;33m\u001b[0m\u001b[0m\n\u001b[0;32m      5\u001b[0m     \u001b[0mprinnt\u001b[0m\u001b[1;33m(\u001b[0m\u001b[1;34m'your new salary is:'\u001b[0m\u001b[1;33m,\u001b[0m\u001b[0mnewsal\u001b[0m\u001b[1;33m)\u001b[0m\u001b[1;33m\u001b[0m\u001b[1;33m\u001b[0m\u001b[0m\n",
      "\u001b[1;31mNameError\u001b[0m: name 'salary' is not defined"
     ]
    }
   ],
   "source": [
    "salry=float(input('your current salary:'))\n",
    "yrs =int(input('how many years have you been working for us? '))\n",
    "newsal=((5/salary)*100) + salary\n",
    "if yrs>=5:\n",
    "    prinnt('your new salary is:',newsal)\n",
    "else:\n",
    "    print('sorry but you are not eligible for your salary increment')"
   ]
  },
  {
   "cell_type": "code",
   "execution_count": null,
   "metadata": {},
   "outputs": [],
   "source": []
  }
 ],
 "metadata": {
  "kernelspec": {
   "display_name": "Python 3",
   "language": "python",
   "name": "python3"
  },
  "language_info": {
   "codemirror_mode": {
    "name": "ipython",
    "version": 3
   },
   "file_extension": ".py",
   "mimetype": "text/x-python",
   "name": "python",
   "nbconvert_exporter": "python",
   "pygments_lexer": "ipython3",
   "version": "3.8.3"
  }
 },
 "nbformat": 4,
 "nbformat_minor": 4
}
